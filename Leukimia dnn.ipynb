{
  "cells": [
    {
      "cell_type": "markdown",
      "id": "5b84003c",
      "metadata": {
        "id": "5b84003c"
      },
      "source": [
        "# Partie pour load la data sous forme de matrice\n"
      ]
    },
    {
      "cell_type": "markdown",
      "id": "f22d38f8",
      "metadata": {
        "id": "f22d38f8"
      },
      "source": [
        "On va tout d'abord importer tous les librairies necessaire pour faire du dnn\n",
        "Numpy is used to load the data and is a library"
      ]
    },
    {
      "cell_type": "code",
      "execution_count": null,
      "id": "429c3f1d",
      "metadata": {
        "id": "429c3f1d"
      },
      "outputs": [],
      "source": [
        "import glob\n",
        "\n",
        "import matplotlib.pyplot as plt\n",
        "import numpy as np\n",
        "import pandas as pd\n",
        "from skimage.io import imread\n",
        "from skimage.transform import resize\n",
        "from sklearn.utils import shuffle\n",
        "# Instantiating the model for loading the weights and biases and preprocess_input\n",
        "from tensorflow.keras.applications.inception_v3 import InceptionV3, preprocess_input\n",
        "from tensorflow.keras.callbacks import EarlyStopping, ModelCheckpoint, ReduceLROnPlateau\n",
        "from tensorflow.keras.layers import Dropout, Flatten, Dense\n",
        "from tensorflow.keras.models import Model\n",
        "from tensorflow.keras.preprocessing.image import ImageDataGenerator\n",
        "from tqdm import tqdm\n",
        "from tensorflow import keras\n",
        "from tensorflow.keras import layers\n"
      ]
    },
    {
      "cell_type": "code",
      "execution_count": null,
      "id": "e2a3146b",
      "metadata": {
        "id": "e2a3146b"
      },
      "outputs": [],
      "source": [
        "#load la data de training\n",
        "train_dataset_0_all = glob.glob('./C-NMC_Leukemia/training_data/fold_0/all/*.bmp')#data cellules malades\n",
        "train_dataset_0_hem = glob.glob('./C-NMC_Leukemia/training_data/fold_0/hem/*.bmp')#data cellules saines\n",
        "\n"
      ]
    },
    {
      "cell_type": "markdown",
      "id": "155a96fc",
      "metadata": {
        "id": "155a96fc"
      },
      "source": [
        "Un format BMP-Windows bitmap (connu aussi sous l'abréviation de BitMaP en BMP ; en anglais, device-independent bitmap ou DIB), est un format d'image matricielle ouvert "
      ]
    },
    {
      "cell_type": "markdown",
      "id": "022d6338",
      "metadata": {
        "id": "022d6338"
      },
      "source": [
        "comma-separated values (csv) apd panda qui est librairie qui permet de jouer avec les matrices et la data plus facilement"
      ]
    },
    {
      "cell_type": "code",
      "execution_count": null,
      "id": "661d9ee3",
      "metadata": {
        "scrolled": false,
        "id": "661d9ee3",
        "outputId": "f709ac68-6492-4af8-8e22-9b734856b5db"
      },
      "outputs": [
        {
          "name": "stdout",
          "output_type": "stream",
          "text": [
            "                Patient_ID new_names  labels\n",
            "0      UID_57_29_1_all.bmp     1.bmp       1\n",
            "1      UID_57_22_2_all.bmp     2.bmp       1\n",
            "2      UID_57_31_3_all.bmp     3.bmp       1\n",
            "3     UID_H49_35_1_hem.bmp     4.bmp       0\n",
            "4      UID_58_6_13_all.bmp     5.bmp       1\n",
            "...                    ...       ...     ...\n",
            "1862   UID_54_33_1_all.bmp  1863.bmp       1\n",
            "1863   UID_55_24_1_all.bmp  1864.bmp       1\n",
            "1864  UID_H32_20_1_hem.bmp  1865.bmp       0\n",
            "1865   UID_54_30_2_all.bmp  1866.bmp       1\n",
            "1866   UID_66_10_3_all.bmp  1867.bmp       1\n",
            "\n",
            "[1867 rows x 3 columns]\n"
          ]
        }
      ],
      "source": [
        "valid_data = pd.read_csv(\n",
        "        './C-NMC_Leukemia/validation_data/C-NMC_test_prelim_phase_data_labels.csv')\n",
        "print(valid_data)"
      ]
    },
    {
      "cell_type": "markdown",
      "id": "52c67d1b",
      "metadata": {
        "id": "52c67d1b"
      },
      "source": [
        "Creer les listes pour tous les path des images pour apres mettre les images dans les listes"
      ]
    },
    {
      "cell_type": "code",
      "execution_count": null,
      "id": "847c5c07",
      "metadata": {
        "id": "847c5c07"
      },
      "outputs": [],
      "source": [
        "A = []\n",
        "H = []\n",
        "\n",
        "A.extend(train_dataset_0_all)\n",
        "A.extend(train_dataset_1_all)\n",
        "A.extend(train_dataset_2_all)\n",
        "\n",
        "\n",
        "H.extend(train_dataset_0_hem)\n",
        "H.extend(train_dataset_1_hem)\n",
        "H.extend(train_dataset_2_hem)\n",
        "\n",
        "A = np.array(A)#transforme la lsite A qui est une liste sur une seule ligne en une matrice avec 1 colone et tous les elements separé sur chaque ligne\n",
        "H = np.array(H)\n"
      ]
    },
    {
      "cell_type": "code",
      "execution_count": null,
      "id": "e98e126a",
      "metadata": {
        "id": "e98e126a",
        "outputId": "42cb8c72-5416-4e8f-f74e-d19d1affc027"
      },
      "outputs": [
        {
          "name": "stdout",
          "output_type": "stream",
          "text": [
            "['./C-NMC_Leukemia/training_data/fold_0/all\\\\UID_11_10_1_all.bmp'\n",
            " './C-NMC_Leukemia/training_data/fold_0/all\\\\UID_11_11_1_all.bmp'\n",
            " './C-NMC_Leukemia/training_data/fold_0/all\\\\UID_11_11_2_all.bmp' ...\n",
            " './C-NMC_Leukemia/training_data/fold_0/all\\\\UID_5_9_1_all.bmp'\n",
            " './C-NMC_Leukemia/training_data/fold_0/all\\\\UID_5_9_2_all.bmp'\n",
            " './C-NMC_Leukemia/training_data/fold_0/all\\\\UID_5_9_3_all.bmp']\n",
            "['./C-NMC_Leukemia/training_data/fold_0/hem\\\\UID_H11_10_1_hem.bmp'\n",
            " './C-NMC_Leukemia/training_data/fold_0/hem\\\\UID_H11_10_2_hem.bmp'\n",
            " './C-NMC_Leukemia/training_data/fold_0/hem\\\\UID_H11_10_3_hem.bmp' ...\n",
            " './C-NMC_Leukemia/training_data/fold_0/hem\\\\UID_H7_7_1_hem.bmp'\n",
            " './C-NMC_Leukemia/training_data/fold_0/hem\\\\UID_H7_8_1_hem.bmp'\n",
            " './C-NMC_Leukemia/training_data/fold_0/hem\\\\UID_H7_9_1_hem.bmp']\n"
          ]
        }
      ],
      "source": [
        "print(A)\n",
        "print(H)"
      ]
    },
    {
      "cell_type": "code",
      "execution_count": null,
      "id": "b3558d4c",
      "metadata": {
        "id": "b3558d4c",
        "outputId": "a90550eb-9be6-4a84-ad68-d69b8a981819"
      },
      "outputs": [
        {
          "name": "stderr",
          "output_type": "stream",
          "text": [
            "100%|██████████████████████████████████████████████████████████████████████████████| 2397/2397 [01:19<00:00, 30.16it/s]\n",
            "100%|██████████████████████████████████████████████████████████████████████████████| 1130/1130 [00:41<00:00, 26.98it/s]\n"
          ]
        }
      ],
      "source": [
        "Image = []\n",
        "Label = []\n",
        "\n",
        "# Progress bar\n",
        "for i in tqdm(range(0, len(A))):\n",
        "    img = imread(A[i])\n",
        "    img = resize(img, (128, 128)) #pk resize a 128 sur 128\n",
        "    Image.append(img)\n",
        "    Label.append(1)\n",
        "\n",
        "# Progress bar\n",
        "for i in tqdm(range(0, len(H))):\n",
        "    img = imread(H[i])\n",
        "    img = resize(img, (128, 128))\n",
        "    Image.append(img)\n",
        "    Label.append(0)\n",
        "\n",
        "#Create list for the image and the label\n",
        "Image = np.array(Image)\n",
        "Label = np.array(Label)\n"
      ]
    },
    {
      "cell_type": "markdown",
      "id": "e265c038",
      "metadata": {
        "id": "e265c038"
      },
      "source": [
        "La matrice A contient toutes les cellules malades donc on attribue aux images des cellules malades le label 1.\n",
        "Pour toutes les cellules saines on attribue la valeur 0 (sans maladie).\n",
        "A la fin dans la matrice Image on se retrouve avec tous les images de data de cellules (malades et saines) qui sont mise en ordre (d'abord les malades et puis les saines).\n",
        "\n"
      ]
    },
    {
      "cell_type": "code",
      "execution_count": null,
      "id": "3cfe1117",
      "metadata": {
        "id": "3cfe1117",
        "outputId": "97ad738e-1d9f-4228-a9b6-0b4a05a86b9d"
      },
      "outputs": [
        {
          "name": "stdout",
          "output_type": "stream",
          "text": [
            "[0. 0. 0.]\n",
            "(3527, 128, 128, 3)\n",
            "[1 1 1 ... 0 0 0]\n",
            "(3527, 128, 128, 3, 3527)\n"
          ]
        }
      ],
      "source": [
        "print(Image[1,1,1])\n",
        "print(Image.shape)\n",
        "print(Label)\n",
        "print(Image.shape + Label.shape)\n"
      ]
    },
    {
      "cell_type": "code",
      "execution_count": null,
      "id": "14f529e7",
      "metadata": {
        "id": "14f529e7"
      },
      "outputs": [],
      "source": [
        "Image, Label = shuffle(Image, Label, random_state=40) "
      ]
    },
    {
      "cell_type": "markdown",
      "id": "56e92908",
      "metadata": {
        "id": "56e92908"
      },
      "source": [
        "random state cest une cle pour si on veut refaire le code et avoir les meme resultat on doit mette cette cle si on la met pas a chque lancement on peut avoir des valeurs differentes"
      ]
    },
    {
      "cell_type": "markdown",
      "id": "75e50c7c",
      "metadata": {
        "id": "75e50c7c"
      },
      "source": [
        "Comme on a dit que les images n'etaient pas melangé il faut les melanger parce que si on les laisse comme ca le programme va tres bien apprendre a reconaitre les cellules malade et quand il devra dire qu'une cellules n'est pas malade il pourrait la classifier de malade parce qu'il a été entrainer a reconaitre seulement les cellules malades\n"
      ]
    },
    {
      "cell_type": "code",
      "execution_count": null,
      "id": "11005057",
      "metadata": {
        "id": "11005057",
        "outputId": "c30d7a22-0383-4022-910a-14b7131551e6"
      },
      "outputs": [
        {
          "name": "stderr",
          "output_type": "stream",
          "text": [
            "100%|███████████████████████████████████████████████████████████████████████████████████| 5/5 [00:00<00:00, 390.17it/s]\n"
          ]
        },
        {
          "data": {
            "image/png": "[encoded data removed]",
            "text/plain": [
              "<Figure size 1440x1440 with 5 Axes>"
            ]
          },
          "metadata": {
            "needs_background": "light"
          },
          "output_type": "display_data"
        }
      ],
      "source": [
        "fig, ax = plt.subplots(nrows=1, ncols=5, figsize=(20, 20))\n",
        "for i in tqdm(range(0, 5)):\n",
        "    rand = np.random.randint(len(Image))\n",
        "    ax[i].imshow(Image[rand])\n",
        "    ax[i].axis('off')\n",
        "    a = Label[rand]\n",
        "    if a == 1:\n",
        "        ax[i].set_title('Diseased')\n",
        "    else:\n",
        "        ax[i].set_title('Non_Diseased')"
      ]
    },
    {
      "cell_type": "markdown",
      "id": "b13cfc7c",
      "metadata": {
        "id": "b13cfc7c"
      },
      "source": [
        "La librairie tqdm permet de voir la progression d'une boucle for par une barre qui charge"
      ]
    },
    {
      "cell_type": "code",
      "execution_count": null,
      "id": "980af227",
      "metadata": {
        "id": "980af227"
      },
      "outputs": [],
      "source": [
        "X = Image\n",
        "y = Label"
      ]
    },
    {
      "cell_type": "code",
      "execution_count": null,
      "id": "9649864c",
      "metadata": {
        "id": "9649864c",
        "outputId": "e5d90e00-609f-4161-f9b6-ca3e563e15fc"
      },
      "outputs": [
        {
          "name": "stdout",
          "output_type": "stream",
          "text": [
            "[0 1 1 ... 1 1 0]\n"
          ]
        }
      ],
      "source": [
        "#print(X)\n",
        "print(y)"
      ]
    },
    {
      "cell_type": "code",
      "execution_count": null,
      "id": "ab8dc0b0",
      "metadata": {
        "id": "ab8dc0b0"
      },
      "outputs": [],
      "source": [
        "\n",
        "del Image\n",
        "del Label\n",
        "del A\n",
        "del H\n"
      ]
    },
    {
      "cell_type": "code",
      "execution_count": null,
      "id": "685e27af",
      "metadata": {
        "id": "685e27af",
        "outputId": "2213a205-435a-448a-b5d4-2a90cc4ec274"
      },
      "outputs": [
        {
          "data": {
            "text/html": [
              "<div>\n",
              "<style scoped>\n",
              "    .dataframe tbody tr th:only-of-type {\n",
              "        vertical-align: middle;\n",
              "    }\n",
              "\n",
              "    .dataframe tbody tr th {\n",
              "        vertical-align: top;\n",
              "    }\n",
              "\n",
              "    .dataframe thead th {\n",
              "        text-align: right;\n",
              "    }\n",
              "</style>\n",
              "<table border=\"1\" class=\"dataframe\">\n",
              "  <thead>\n",
              "    <tr style=\"text-align: right;\">\n",
              "      <th></th>\n",
              "      <th>Patient_ID</th>\n",
              "      <th>new_names</th>\n",
              "      <th>labels</th>\n",
              "    </tr>\n",
              "  </thead>\n",
              "  <tbody>\n",
              "    <tr>\n",
              "      <th>0</th>\n",
              "      <td>UID_57_29_1_all.bmp</td>\n",
              "      <td>1.bmp</td>\n",
              "      <td>1</td>\n",
              "    </tr>\n",
              "    <tr>\n",
              "      <th>1</th>\n",
              "      <td>UID_57_22_2_all.bmp</td>\n",
              "      <td>2.bmp</td>\n",
              "      <td>1</td>\n",
              "    </tr>\n",
              "    <tr>\n",
              "      <th>2</th>\n",
              "      <td>UID_57_31_3_all.bmp</td>\n",
              "      <td>3.bmp</td>\n",
              "      <td>1</td>\n",
              "    </tr>\n",
              "    <tr>\n",
              "      <th>3</th>\n",
              "      <td>UID_H49_35_1_hem.bmp</td>\n",
              "      <td>4.bmp</td>\n",
              "      <td>0</td>\n",
              "    </tr>\n",
              "    <tr>\n",
              "      <th>4</th>\n",
              "      <td>UID_58_6_13_all.bmp</td>\n",
              "      <td>5.bmp</td>\n",
              "      <td>1</td>\n",
              "    </tr>\n",
              "  </tbody>\n",
              "</table>\n",
              "</div>"
            ],
            "text/plain": [
              "             Patient_ID new_names  labels\n",
              "0   UID_57_29_1_all.bmp     1.bmp       1\n",
              "1   UID_57_22_2_all.bmp     2.bmp       1\n",
              "2   UID_57_31_3_all.bmp     3.bmp       1\n",
              "3  UID_H49_35_1_hem.bmp     4.bmp       0\n",
              "4   UID_58_6_13_all.bmp     5.bmp       1"
            ]
          },
          "execution_count": 13,
          "metadata": {},
          "output_type": "execute_result"
        }
      ],
      "source": [
        "valid_data.head()\n",
        "#print(type(valid_data))"
      ]
    },
    {
      "cell_type": "markdown",
      "id": "79727a6f",
      "metadata": {
        "id": "79727a6f"
      },
      "source": [
        "La fonction .head() permet d'afficher que les 5 premier elements de la liste valid_data si on veut visualiser les n premier elements on met entre paranthese le nombre désiré"
      ]
    },
    {
      "cell_type": "code",
      "execution_count": null,
      "id": "de5cc757",
      "metadata": {
        "id": "de5cc757"
      },
      "outputs": [],
      "source": [
        "X_val = []\n",
        "\n",
        "for image_name in valid_data.new_names:\n",
        "    # Loading images\n",
        "    img = imread(\n",
        "        './C-NMC_Leukemia/validation_data/C-NMC_test_prelim_phase_data/' + image_name)\n",
        "    # Resizing\n",
        "    img = resize(img, (128, 128))\n",
        "    # Appending them into list\n",
        "    X_val.append(img)\n",
        "\n",
        "# Converting into array\n",
        "X_val = np.array(X_val)"
      ]
    },
    {
      "cell_type": "code",
      "execution_count": null,
      "id": "b6f15d08",
      "metadata": {
        "id": "b6f15d08"
      },
      "outputs": [],
      "source": [
        "#print(X_val)"
      ]
    },
    {
      "cell_type": "code",
      "execution_count": null,
      "id": "6a40cde6",
      "metadata": {
        "id": "6a40cde6"
      },
      "outputs": [],
      "source": [
        " y_val = valid_data.labels.values"
      ]
    },
    {
      "cell_type": "code",
      "execution_count": null,
      "id": "0d6efcbc",
      "metadata": {
        "id": "0d6efcbc",
        "outputId": "7e74e9aa-1892-4c74-c783-5f1a4b153a62"
      },
      "outputs": [
        {
          "name": "stdout",
          "output_type": "stream",
          "text": [
            "[1 1 1 ... 0 1 1]\n"
          ]
        }
      ],
      "source": [
        "print(y_val)"
      ]
    },
    {
      "cell_type": "markdown",
      "id": "1d0a28d6",
      "metadata": {
        "id": "1d0a28d6"
      },
      "source": [
        "# Augmentation et preprocessing"
      ]
    },
    {
      "cell_type": "code",
      "execution_count": null,
      "id": "d5ff4b16",
      "metadata": {
        "id": "d5ff4b16"
      },
      "outputs": [],
      "source": [
        "train_datagen = ImageDataGenerator(horizontal_flip=True,\n",
        "                                   vertical_flip=True,\n",
        "                                   zoom_range=0.2,\n",
        "                                   preprocessing_function=preprocess_input)\n",
        "#mettre un filtre gaussien ou bien un qui ne garde que les bords\n",
        "train_datagen.fit(X)\n",
        "\n",
        "valid_datagen = ImageDataGenerator(preprocessing_function=preprocess_input)\n",
        "\n",
        "valid_datagen.fit(X_val)\n"
      ]
    },
    {
      "cell_type": "markdown",
      "id": "fff6d2b5",
      "metadata": {
        "id": "fff6d2b5"
      },
      "source": [
        "Ce sont de fonction de la librairie tenserflow qui permet de normaliser les images et qui permet de diviser la data dans des batch pour mieux ameliorer le model (on calcule l'erreur par batch).\n",
        "On va flip quelques images mais aussi les zommer pour que le programme soit capable de tout reconnaitre et pas que certaines position des images (generalisation).\n"
      ]
    },
    {
      "cell_type": "markdown",
      "id": "2ee2abbb",
      "metadata": {
        "id": "2ee2abbb"
      },
      "source": [
        "# Creation du modele de reseau de neurones"
      ]
    },
    {
      "cell_type": "code",
      "execution_count": null,
      "id": "d1a0a8e4",
      "metadata": {
        "id": "d1a0a8e4"
      },
      "outputs": [],
      "source": [
        "#incep_v3 = InceptionV3(include_top=False, weights='imagenet', input_shape=(128, 128, 3))\n",
        "\n",
        "# Model Summary\n",
        "\n",
        "#incep_v3.summary()\n",
        "\n",
        "#ceci est un modele qui utilise une fonction prefait avec beaucoup de layer "
      ]
    },
    {
      "cell_type": "markdown",
      "id": "9e99b05c",
      "metadata": {
        "id": "9e99b05c"
      },
      "source": [
        "https://keras.io/api/applications/inceptionv3/\n",
        "\n",
        "https://keras.io/examples/vision/3D_image_classification/"
      ]
    },
    {
      "cell_type": "code",
      "execution_count": null,
      "id": "db42f4de",
      "metadata": {
        "scrolled": false,
        "id": "db42f4de",
        "outputId": "1d43984f-4c2d-4f81-bff5-167110ea02fb"
      },
      "outputs": [
        {
          "name": "stdout",
          "output_type": "stream",
          "text": [
            "Model: \"functional_3\"\n",
            "__________________________________________________________________________________________________\n",
            "Layer (type)                    Output Shape         Param #     Connected to                     \n",
            "==================================================================================================\n",
            "input_3 (InputLayer)            [(None, 128, 128, 3) 0                                            \n",
            "__________________________________________________________________________________________________\n",
            "conv2d_6 (Conv2D)               (None, 64, 64, 32)   896         input_3[0][0]                    \n",
            "__________________________________________________________________________________________________\n",
            "batch_normalization_10 (BatchNo (None, 64, 64, 32)   128         conv2d_6[0][0]                   \n",
            "__________________________________________________________________________________________________\n",
            "activation_10 (Activation)      (None, 64, 64, 32)   0           batch_normalization_10[0][0]     \n",
            "__________________________________________________________________________________________________\n",
            "conv2d_7 (Conv2D)               (None, 64, 64, 64)   18496       activation_10[0][0]              \n",
            "__________________________________________________________________________________________________\n",
            "batch_normalization_11 (BatchNo (None, 64, 64, 64)   256         conv2d_7[0][0]                   \n",
            "__________________________________________________________________________________________________\n",
            "activation_11 (Activation)      (None, 64, 64, 64)   0           batch_normalization_11[0][0]     \n",
            "__________________________________________________________________________________________________\n",
            "activation_12 (Activation)      (None, 64, 64, 64)   0           activation_11[0][0]              \n",
            "__________________________________________________________________________________________________\n",
            "separable_conv2d_6 (SeparableCo (None, 64, 64, 128)  8896        activation_12[0][0]              \n",
            "__________________________________________________________________________________________________\n",
            "batch_normalization_12 (BatchNo (None, 64, 64, 128)  512         separable_conv2d_6[0][0]         \n",
            "__________________________________________________________________________________________________\n",
            "activation_13 (Activation)      (None, 64, 64, 128)  0           batch_normalization_12[0][0]     \n",
            "__________________________________________________________________________________________________\n",
            "separable_conv2d_7 (SeparableCo (None, 64, 64, 128)  17664       activation_13[0][0]              \n",
            "__________________________________________________________________________________________________\n",
            "batch_normalization_13 (BatchNo (None, 64, 64, 128)  512         separable_conv2d_7[0][0]         \n",
            "__________________________________________________________________________________________________\n",
            "max_pooling2d_2 (MaxPooling2D)  (None, 32, 32, 128)  0           batch_normalization_13[0][0]     \n",
            "__________________________________________________________________________________________________\n",
            "conv2d_8 (Conv2D)               (None, 32, 32, 128)  8320        activation_11[0][0]              \n",
            "__________________________________________________________________________________________________\n",
            "add_2 (Add)                     (None, 32, 32, 128)  0           max_pooling2d_2[0][0]            \n",
            "                                                                 conv2d_8[0][0]                   \n",
            "__________________________________________________________________________________________________\n",
            "separable_conv2d_8 (SeparableCo (None, 32, 32, 1024) 133248      add_2[0][0]                      \n",
            "__________________________________________________________________________________________________\n",
            "batch_normalization_14 (BatchNo (None, 32, 32, 1024) 4096        separable_conv2d_8[0][0]         \n",
            "__________________________________________________________________________________________________\n",
            "activation_14 (Activation)      (None, 32, 32, 1024) 0           batch_normalization_14[0][0]     \n",
            "__________________________________________________________________________________________________\n",
            "flatten_2 (Flatten)             (None, 1048576)      0           activation_14[0][0]              \n",
            "__________________________________________________________________________________________________\n",
            "dense_3 (Dense)                 (None, 16)           16777232    flatten_2[0][0]                  \n",
            "__________________________________________________________________________________________________\n",
            "dense_4 (Dense)                 (None, 2)            34          dense_3[0][0]                    \n",
            "==================================================================================================\n",
            "Total params: 16,970,290\n",
            "Trainable params: 16,967,538\n",
            "Non-trainable params: 2,752\n",
            "__________________________________________________________________________________________________\n"
          ]
        }
      ],
      "source": [
        "#ceci est un model ou je fait une fonction qui permet de creer de layers differents que j'ai transformé pour faire de la 2D\n",
        "\n",
        "shape=(128,128,3)\n",
        "\n",
        "def get_model(shape):\n",
        "    \"\"\"Build a 3D convolutional neural network model.\"\"\"\n",
        "\n",
        "    inputs = keras.Input(shape)\n",
        "    x = layers.Conv2D(32, 3, strides=2, padding=\"same\")(inputs)\n",
        "    x = layers.BatchNormalization()(x)\n",
        "    x = layers.Activation(\"relu\")(x)\n",
        "\n",
        "    x = layers.Conv2D(64, 3, padding=\"same\")(x)\n",
        "    x = layers.BatchNormalization()(x)\n",
        "    x = layers.Activation(\"relu\")(x)\n",
        "\n",
        "    previous_block_activation = x  # Set aside residual\n",
        "\n",
        "    for size in [128]:\n",
        "        x = layers.Activation(\"relu\")(x)\n",
        "        x = layers.SeparableConv2D(size, 3, padding=\"same\")(x)\n",
        "        x = layers.BatchNormalization()(x)\n",
        "\n",
        "        x = layers.Activation(\"relu\")(x)\n",
        "        x = layers.SeparableConv2D(size, 3, padding=\"same\")(x)\n",
        "        x = layers.BatchNormalization()(x)\n",
        "\n",
        "        x = layers.MaxPooling2D(3, strides=2, padding=\"same\")(x)\n",
        "\n",
        "        # Project residual\n",
        "        residual = layers.Conv2D(size, 1, strides=2, padding=\"same\")(\n",
        "            previous_block_activation\n",
        "        )\n",
        "        x = layers.add([x, residual])  # Add back residual\n",
        "        previous_block_activation = x  # Set aside next residual\n",
        "\n",
        "    x = layers.SeparableConv2D(1024, 3, padding=\"same\")(x)\n",
        "    x = layers.BatchNormalization()(x)\n",
        "    x = layers.Activation(\"relu\")(x)\n",
        "    x = layers.Flatten()(x)\n",
        "    x = layers.Dense(16,activation=\"relu\")(x)\n",
        "    outputs = layers.Dense(2, activation=\"softmax\")(x)#pourqoui utiliser softmax ou sigmoid\n",
        "    return keras.Model(inputs, outputs)\n",
        "\n",
        "\n",
        "# Build model.\n",
        "model = get_model(shape)\n",
        "model.summary()\n",
        "\n"
      ]
    },
    {
      "cell_type": "markdown",
      "id": "b1c012e1",
      "metadata": {
        "id": "b1c012e1"
      },
      "source": [
        "On met l'optimisation qui est la maniere dont on calcule le gradient qui va etre backpropagated dans tout le reseau et modifie les poids/weight layer par layer"
      ]
    },
    {
      "cell_type": "code",
      "execution_count": null,
      "id": "7b11625f",
      "metadata": {
        "id": "7b11625f"
      },
      "outputs": [],
      "source": [
        "initial_learning_rate = 0.0001\n",
        "lr_schedule = keras.optimizers.schedules.ExponentialDecay(\n",
        "    initial_learning_rate, decay_steps=100000, decay_rate=0.96, staircase=True\n",
        ")\n",
        "model.compile(\n",
        "    loss=\"sparse_categorical_crossentropy\",\n",
        "    optimizer=keras.optimizers.Adam(learning_rate=lr_schedule),\n",
        "    metrics=[\"acc\"],\n",
        ")\n",
        "\n",
        "\n",
        "filepath = './best_weights.hdf5'\n",
        "\n",
        "earlystopping = EarlyStopping(monitor='val_acc',#changer et mettre val_acc parce qu'il reconnait pas val_accuracy\n",
        "                              mode='max',\n",
        "                              patience=15,\n",
        "                              verbose=1)\n",
        "\n",
        "checkpoint = ModelCheckpoint(filepath,\n",
        "                             monitor='val_acc',\n",
        "                             mode='max',\n",
        "                             save_best_only=True,\n",
        "                             verbose=1)\n",
        "\n",
        "\n",
        "\n",
        "callback_list = [ checkpoint, earlystopping]\n",
        "\n",
        "# Fitting Model\n",
        "\n"
      ]
    },
    {
      "cell_type": "code",
      "execution_count": null,
      "id": "853d8121",
      "metadata": {
        "id": "853d8121",
        "outputId": "97a5b1bd-97d9-4fe3-a0e3-183bea6b753b"
      },
      "outputs": [
        {
          "name": "stdout",
          "output_type": "stream",
          "text": [
            "(3527, 128, 128, 3)\n",
            "(3527,)\n",
            "1\n"
          ]
        }
      ],
      "source": [
        "print(X.shape)\n",
        "print(y.shape)\n",
        "print(y[1])"
      ]
    },
    {
      "cell_type": "markdown",
      "id": "2b9a78b9",
      "metadata": {
        "id": "2b9a78b9"
      },
      "source": [
        "J'ai eu un problem car j'avais un model un 3D et mon porjet se base sur un model en 2D\n",
        "Un autre problem c'etait que sur le model repris sur internet il aait un seul output tandis que moi j'ai 2 outputs (malade sain) \n",
        "3e probleme le nombre de batch sur le model est de 64 et sur le code endessous j'avais pris un batch plus petit. les 2 batch ce qu'il recoit et ce qu'il valide doit etre de al meme taille"
      ]
    },
    {
      "cell_type": "code",
      "execution_count": null,
      "id": "5425da50",
      "metadata": {
        "scrolled": false,
        "id": "5425da50",
        "outputId": "d7f234d6-0e92-45b3-bab8-4cb12cefb75c"
      },
      "outputs": [
        {
          "name": "stdout",
          "output_type": "stream",
          "text": [
            "Epoch 1/5\n",
            "353/353 [==============================] - ETA: 0s - loss: 3.8232 - acc: 0.7499\n",
            "Epoch 00001: val_acc improved from -inf to 0.65292, saving model to .\\best_weights.hdf5\n",
            "353/353 [==============================] - 506s 1s/step - loss: 3.8232 - acc: 0.7499 - val_loss: 1.0356 - val_acc: 0.6529\n",
            "Epoch 2/5\n",
            "353/353 [==============================] - ETA: 0s - loss: 0.6177 - acc: 0.8537\n",
            "Epoch 00002: val_acc improved from 0.65292 to 0.68934, saving model to .\\best_weights.hdf5\n",
            "353/353 [==============================] - 536s 2s/step - loss: 0.6177 - acc: 0.8537 - val_loss: 1.7361 - val_acc: 0.6893\n",
            "Epoch 3/5\n",
            "353/353 [==============================] - ETA: 0s - loss: 0.3432 - acc: 0.9042\n",
            "Epoch 00003: val_acc did not improve from 0.68934\n",
            "353/353 [==============================] - 564s 2s/step - loss: 0.3432 - acc: 0.9042 - val_loss: 1.4481 - val_acc: 0.6872\n",
            "Epoch 4/5\n",
            "353/353 [==============================] - ETA: 0s - loss: 0.2712 - acc: 0.9251\n",
            "Epoch 00004: val_acc did not improve from 0.68934\n",
            "353/353 [==============================] - 602s 2s/step - loss: 0.2712 - acc: 0.9251 - val_loss: 3.3174 - val_acc: 0.6743\n",
            "Epoch 5/5\n",
            "353/353 [==============================] - ETA: 0s - loss: 0.2227 - acc: 0.9331\n",
            "Epoch 00005: val_acc did not improve from 0.68934\n",
            "353/353 [==============================] - 510s 1s/step - loss: 0.2227 - acc: 0.9331 - val_loss: 2.7096 - val_acc: 0.6781\n",
            "<tensorflow.python.keras.callbacks.History object at 0x000001BAAD0E6100>\n"
          ]
        }
      ],
      "source": [
        "model_history = model.fit(x=X,y= y,  # BATCH DE 10 15 images generalement\n",
        "                          validation_data=(X_val, y_val),\n",
        "                          epochs=5,\n",
        "                          batch_size=10,\n",
        "                          verbose=1,\n",
        "                          callbacks=callback_list)\n",
        "print(model_history)\n"
      ]
    },
    {
      "cell_type": "markdown",
      "id": "58bf612e",
      "metadata": {
        "id": "58bf612e"
      },
      "source": [
        "# Visualizing model performance\n"
      ]
    },
    {
      "cell_type": "code",
      "execution_count": null,
      "id": "13feb436",
      "metadata": {
        "id": "13feb436",
        "outputId": "1ce163cf-16fa-4cda-84cd-04a4cae421d6"
      },
      "outputs": [
        {
          "data": {
            "image/png": "[encoded data removed]",
            "text/plain": [
              "<Figure size 1440x216 with 2 Axes>"
            ]
          },
          "metadata": {
            "needs_background": "light"
          },
          "output_type": "display_data"
        }
      ],
      "source": [
        "fig, ax = plt.subplots(1, 2, figsize=(20, 3))\n",
        "ax = ax.ravel()\n",
        "\n",
        "for i, metric in enumerate([\"val_acc\", \"loss\"]):\n",
        "    ax[i].plot(model.history.history[metric])\n",
        "    ax[i].plot(model.history.history[metric])\n",
        "    ax[i].set_title(\"Model {}\".format(metric))\n",
        "    ax[i].set_xlabel(\"epochs\")\n",
        "    ax[i].set_ylabel(metric)\n",
        "    ax[i].legend([\"train\", \"val_acc\"])\n"
      ]
    },
    {
      "cell_type": "markdown",
      "id": "4ebd894a",
      "metadata": {
        "id": "4ebd894a"
      },
      "source": [
        "google colab\n"
      ]
    }
  ],
  "metadata": {
    "kernelspec": {
      "display_name": "Python 3",
      "language": "python",
      "name": "python3"
    },
    "language_info": {
      "codemirror_mode": {
        "name": "ipython",
        "version": 3
      },
      "file_extension": ".py",
      "mimetype": "text/x-python",
      "name": "python",
      "nbconvert_exporter": "python",
      "pygments_lexer": "ipython3",
      "version": "3.8.8"
    },
    "colab": {
      "name": "Leukimia dnn.ipynb",
      "provenance": []
    }
  },
  "nbformat": 4,
  "nbformat_minor": 5
}